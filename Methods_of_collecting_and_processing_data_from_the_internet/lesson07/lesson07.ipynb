{
 "cells": [
  {
   "cell_type": "code",
   "execution_count": 10,
   "id": "38501133",
   "metadata": {
    "scrolled": true
   },
   "outputs": [],
   "source": [
    "import requests\n",
    "import time\n",
    "import json\n",
    "\n",
    "from selenium import webdriver\n",
    "from selenium.webdriver.chrome.service import Service\n",
    "from selenium.webdriver.common.by import By\n",
    "from selenium.webdriver.support.ui import WebDriverWait\n",
    "from selenium.webdriver.support import expected_conditions as EC\n",
    "from selenium.common.exceptions import TimeoutException"
   ]
  },
  {
   "cell_type": "code",
   "execution_count": 11,
   "id": "a00938f6",
   "metadata": {},
   "outputs": [],
   "source": [
    "service = Service('chromedriver.exe')\n",
    "driver = webdriver.Chrome(service=service)\n",
    "driver.maximize_window()\n",
    "driver.implicitly_wait(15) \n",
    "driver.get('https://5ka.ru/special_offers')"
   ]
  },
  {
   "cell_type": "code",
   "execution_count": 12,
   "id": "31b024aa",
   "metadata": {},
   "outputs": [],
   "source": [
    "button_location = driver.find_element(By.XPATH, \"//button[contains(@class, 'location-confirm__button')]\")\n",
    "button_location.click()\n",
    "\n",
    "button_cookie = driver.find_element(By.XPATH, \"//div[@class='cookie-message page-container']//button\")\n",
    "button_cookie.click()"
   ]
  },
  {
   "cell_type": "code",
   "execution_count": 13,
   "id": "0b988447",
   "metadata": {},
   "outputs": [
    {
     "name": "stdout",
     "output_type": "stream",
     "text": [
      "достигнут предел = 10\n",
      "\n"
     ]
    }
   ],
   "source": [
    "a=10\n",
    "x=0\n",
    "while True:\n",
    "    if x<a:\n",
    "        wait = WebDriverWait(driver, 15)\n",
    "        x+=15\n",
    "        try:\n",
    "            button = wait.until(EC.element_to_be_clickable((By.XPATH, \"//button[@class='add-more-btn']\")))\n",
    "            #button = driver.find_element(By.XPATH, \"//button[@class='add-more-btn']\")\n",
    "            button.click()\n",
    "        except TimeoutException:\n",
    "            print(\"Скролл окончен\")\n",
    "            break\n",
    "        \n",
    "    else:\n",
    "        print(f'достигнут предел = {a}')\n",
    "        break\n"
   ]
  },
  {
   "cell_type": "code",
   "execution_count": 23,
   "id": "7bd608dc",
   "metadata": {},
   "outputs": [],
   "source": [
    "goods = driver.find_elements(By.XPATH, \"//div[@class='product-card item']\")\n",
    "for good in goods:\n",
    "    good_name = good.find_element(By.XPATH, \"//div[@class='item-name']\").text"
   ]
  }
 ],
 "metadata": {
  "kernelspec": {
   "display_name": "Python 3 (ipykernel)",
   "language": "python",
   "name": "python3"
  },
  "language_info": {
   "codemirror_mode": {
    "name": "ipython",
    "version": 3
   },
   "file_extension": ".py",
   "mimetype": "text/x-python",
   "name": "python",
   "nbconvert_exporter": "python",
   "pygments_lexer": "ipython3",
   "version": "3.9.13"
  }
 },
 "nbformat": 4,
 "nbformat_minor": 5
}
