{
 "cells": [
  {
   "cell_type": "markdown",
   "id": "1d8758d0",
   "metadata": {},
   "source": [
    "# Алгоритмы анализа данных\n",
    "## Урок 1. Постройте график зависимости весов всех признаков от lambda в L2-регуляризации на основе данных из урока.\n",
    "Можно ли к одному и тому же признаку применить сразу и нормализацию, и стандартизацию?\n",
    "Напишите функцию наподобие eval_model_reg2, но для применения L1-регуляризации. \n",
    "Постройте график зависимости весов всех признаков от lambda в L2-регуляризации на основе данных из урока.\n",
    "Можно ли к одному и тому же признаку применить сразу и нормализацию, и стандартизацию?\n",
    "Напишите функцию наподобие eval_model_reg2, но для применения L1-регуляризации.\n",
    "\n",
    "### Задача№1"
   ]
  }
 ],
 "metadata": {
  "kernelspec": {
   "display_name": "Python 3 (ipykernel)",
   "language": "python",
   "name": "python3"
  },
  "language_info": {
   "codemirror_mode": {
    "name": "ipython",
    "version": 3
   },
   "file_extension": ".py",
   "mimetype": "text/x-python",
   "name": "python",
   "nbconvert_exporter": "python",
   "pygments_lexer": "ipython3",
   "version": "3.9.13"
  }
 },
 "nbformat": 4,
 "nbformat_minor": 5
}
