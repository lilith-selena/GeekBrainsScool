{
 "cells": [
  {
   "cell_type": "markdown",
   "metadata": {
    "id": "HPMpEWusIIIM"
   },
   "source": [
    "# Урок 3"
   ]
  },
  {
   "cell_type": "markdown",
   "metadata": {
    "id": "USFuS5Q1IIIP"
   },
   "source": [
    "## Множество. Последовательность. Часть 2"
   ]
  },
  {
   "cell_type": "markdown",
   "metadata": {
    "id": "VAmOu--LIILw"
   },
   "source": [
    "## Практическое задание"
   ]
  },
  {
   "cell_type": "markdown",
   "metadata": {},
   "source": [
    "**Пусть $x_n = n^{(-1)^{n}}$. Доказать, что последовательность \\{$x_n$\\}\\:**\n",
    "-  неограниченная; \n",
    "-  не является бесконечно большой."
   ]
  },
  {
   "cell_type": "markdown",
   "metadata": {},
   "source": [
    "1. n = 1 $  \\Rightarrow   x_1 = 1^{(-1)^{1}}=1^{-1}=\\frac{1}{1}=1$ \n",
    "2. n = 2 $  \\Rightarrow   x_2 = 2^{(-1)^{2}}=2^{1}=2$\n",
    "3. n = 3 $  \\Rightarrow   x_3 = 3^{(-1)^{3}}=3^{-1}=\\frac{1}{3}$ \n",
    "4. n = 2 $  \\Rightarrow   x_4 = 4^{(-1)^{4}}=4^{1}=4$\n",
    "\n",
    "Последовательность {$x_n$\\} называется ограниченной снизу, если существует такое число $ m \\in \\mathbf{R}$, что для любого номера n,  $x_n>m$\n",
    "Если продолжить последовательность дальше видно, что у нее есть точка m = 0, к которой последовательность приближается $  \\Rightarrow $ последовательность ограничена с низу.\n",
    "\n",
    "При этом при $n = \\infty $ последовательность уходит в $+\\infty$ $  \\Rightarrow $ она бесконечно большая"
   ]
  },
  {
   "cell_type": "markdown",
   "metadata": {},
   "source": [
    "**Доказать, что последовательность {sin n} расходится.**"
   ]
  },
  {
   "cell_type": "markdown",
   "metadata": {},
   "source": [
    "Последовательность, которая имеет предел, называется сходящейся; иначе - расходящейся.\n",
    "$$ \\lim_{n\\to +\\infty} \\sin(n) = \\lim_{n\\to +\\infty} \\sin(\\infty)  =\\infty$$"
   ]
  },
  {
   "cell_type": "markdown",
   "metadata": {},
   "source": [
    "**Найти пределы:**\n",
    "\n",
    "* $\\lim_{n\\to +\\infty} \\frac{10n}{n^{2}+1}$\n",
    "* $\\lim_{n\\to +\\infty} \\frac{n^{2}-n}{n-\\sqrt{n}}$ \n",
    "* $\\lim_{n\\to +\\infty} \\frac{5\\cdot 3^{n}}{3^{n}-2}$ "
   ]
  },
  {
   "cell_type": "markdown",
   "metadata": {},
   "source": [
    "$\\lim_{n\\to +\\infty} \\frac{10n}{n^{2}+1}$\n",
    "$=\\lim_{n\\to +\\infty}\\frac{\\frac{10n}{n^{2}}}{\\frac{n^{2}}{n^{2}}+\\frac{1}{n^{2}}}=\\frac{0}{1+0}$"
   ]
  },
  {
   "cell_type": "markdown",
   "metadata": {},
   "source": [
    "$\\lim_{n\\to +\\infty} \\frac{n^{2}-n}{n-\\sqrt{n}}$ \n",
    "$=\\lim_{n\\to +\\infty} \\frac{(\\sqrt{n})^{2}\\cdot{(\\sqrt{n}-1)}{(\\sqrt{n}+1)}}{\\sqrt{n}\\cdot{(\\sqrt{n}-1)}} = \\lim_{n\\to +\\infty} (\\sqrt{n})^{2}(\\sqrt{n}+1)$\n",
    "$= \\infty(\\infty+1)= \\infty$"
   ]
  },
  {
   "cell_type": "markdown",
   "metadata": {},
   "source": [
    "$\\lim_{n\\to +\\infty} \\frac{5\\cdot 3^{n}}{3^{n}-2}$\n",
    "$=\\lim_{n\\to +\\infty} \\frac{\\frac{5\\cdot 3^{n}}{3^{n}}}{\\frac{3^{n}}{3^{n}}-\\frac{2}{3^{n}}} = \\frac{5}{1-0}=5$ "
   ]
  },
  {
   "cell_type": "markdown",
   "metadata": {},
   "source": [
    "**Найти предел**\n",
    "\n",
    "$lim_{n\\to +\\infty} (\\sqrt{n^{2}+n}-n)$"
   ]
  },
  {
   "cell_type": "markdown",
   "metadata": {},
   "source": [
    "$ \\lim_{n\\to +\\infty} (\\sqrt{n^{2}+n}-n)$\n",
    "$=\\lim_{n\\to +\\infty} \\frac{\\sqrt{n}(\\sqrt{n+1}-\\sqrt{n})(\\sqrt{n+1}+\\sqrt{n})}{(\\sqrt{n+1}+\\sqrt{n})}$\n",
    "$=\\lim_{n\\to +\\infty} \\frac{\\frac{\\sqrt{n}}{\\sqrt{n}}(n+1-n)}{\\frac{\\sqrt{n+1}}{\\sqrt{n}}+\\frac{\\sqrt{n}}{\\sqrt{n}}}$\n",
    "$=\\lim_{n\\to +\\infty} \\frac{1}{\\frac{\\sqrt{n+1}}{\\sqrt{n}}+1}$\n",
    "$=\\lim_{n\\to +\\infty} \\frac{1}{\\sqrt{\\frac{n}{n}+\\frac{1}{n}}+1}$\n",
    "$=\\lim_{n\\to +\\infty} \\frac{1}{\\sqrt{1+\\frac{1}{n}}+1} = \\frac{1}{\\sqrt{1+0}+1}=1$"
   ]
  },
  {
   "cell_type": "markdown",
   "metadata": {},
   "source": [
    "**Вычислить** \n",
    "\n",
    "$lim_{n\\to +\\infty} \\frac{\\sqrt{n}\\cos {n}}{n+1}$"
   ]
  },
  {
   "cell_type": "markdown",
   "metadata": {},
   "source": [
    "не знаю как уйти от неопределенности $\\infty\\cdot 0$ формулы понижения размерности угла и приемы деления на самую высокую степень результата не дают, прийти к первому замечательному приделу тоже не удалось."
   ]
  }
 ],
 "metadata": {
  "colab": {
   "provenance": []
  },
  "kernelspec": {
   "display_name": "Python 3 (ipykernel)",
   "language": "python",
   "name": "python3"
  },
  "language_info": {
   "codemirror_mode": {
    "name": "ipython",
    "version": 3
   },
   "file_extension": ".py",
   "mimetype": "text/x-python",
   "name": "python",
   "nbconvert_exporter": "python",
   "pygments_lexer": "ipython3",
   "version": "3.9.13"
  }
 },
 "nbformat": 4,
 "nbformat_minor": 1
}
