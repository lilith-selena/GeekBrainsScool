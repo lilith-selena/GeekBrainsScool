{
 "cells": [
  {
   "cell_type": "markdown",
   "id": "featured-european",
   "metadata": {},
   "source": [
    "# <center>Практическое задание к уроку 2"
   ]
  },
  {
   "cell_type": "code",
   "execution_count": 1,
   "id": "floppy-hebrew",
   "metadata": {},
   "outputs": [],
   "source": [
    "import numpy as np\n",
    "import numpy.linalg"
   ]
  },
  {
   "cell_type": "markdown",
   "id": "adjusted-vampire",
   "metadata": {},
   "source": [
    "__1.__ Найти собственные векторы и собственные значения для линейного оператора, заданного матрицей\n",
    "\n",
    "$A=\\begin{pmatrix}\n",
    "-1 & -6\\\\ \n",
    "2 & 6\n",
    "\\end{pmatrix}$.\n"
   ]
  },
  {
   "cell_type": "markdown",
   "id": "ignored-upgrade",
   "metadata": {},
   "source": [
    "Составим характеристическое уравнение:  \n",
    "\n",
    "$\\begin{vmatrix}\n",
    "-1-\\lambda & -6\\\\ \n",
    "2 & 6-\\lambda\n",
    "\\end{vmatrix}=0$  \n",
    "\n",
    "$(-1-\\lambda)\\cdot (6-\\lambda)-(-6)\\cdot 2=0\\\\\n",
    "\\lambda^{2}-5\\lambda-6+12=0\\\\\n",
    "\\lambda^{2}-5\\lambda+6=0\\\\\n",
    "D=5^{2}-4\\cdot 1\\cdot 6=25-24=1; \\sqrt D=1\\\\\n",
    "\\lambda_1=\\frac{-(-5)-1}{2\\cdot 1}=2\\\\\n",
    "\\lambda_2=\\frac{-(-5)+1}{2\\cdot 1}=3$  \n",
    "\n",
    "**Собственные значения** для линейного оператора $A$: $\\lambda_1=2, \\lambda_2=3$  \n",
    "\n",
    "Найдем собственные векторы:  \n",
    "\n",
    "а) $\\lambda=\\lambda_1=2\\\\\n",
    "\\begin{pmatrix}\n",
    "-1 & -6\\\\ \n",
    "2 & 6\n",
    "\\end{pmatrix}\\cdot \\begin{pmatrix}x\\\\ y\\end{pmatrix}=\\lambda\\cdot \\begin{pmatrix}x\\\\ y\\end{pmatrix}\\\\\n",
    "\\begin{pmatrix}\n",
    "-x-6y\\\\ \n",
    "2x+6y\n",
    "\\end{pmatrix}=\\begin{pmatrix}2x\\\\ 2y\\end{pmatrix}\\\\\n",
    "\\begin{cases}-3x-6y=0\\\\2x+4y=0\\end{cases}\\\\\n",
    "x=-2y$  \n",
    "\n",
    "Получили бесконечное множество коллинеарных векторов.\n",
    "\n",
    "Найдем 1 частное решение:  \n",
    "\n",
    "Пусть $y=-1$, тогда $x=2$  \n",
    "\n",
    "Проверим:  \n",
    "\n",
    "$\\begin{cases}-3\\cdot 2-6\\cdot (-1)=0\\\\2\\cdot 2+4\\cdot (-1)=0\\end{cases}$ верно.\n",
    "\n",
    "$\\bar{u_1}=\\begin{pmatrix}2\\\\ -1\\end{pmatrix}$  \n",
    "\n",
    "б) $\\lambda=\\lambda_2=3\\\\\n",
    "\\begin{pmatrix}\n",
    "-1 & -6\\\\ \n",
    "2 & 6\n",
    "\\end{pmatrix}\\cdot \\begin{pmatrix}x\\\\ y\\end{pmatrix}=\\lambda\\cdot \\begin{pmatrix}x\\\\ y\\end{pmatrix}\\\\\n",
    "\\begin{pmatrix}\n",
    "-x-6y\\\\ \n",
    "2x+6y\n",
    "\\end{pmatrix}=\\begin{pmatrix}3x\\\\ 3y\\end{pmatrix}\\\\\n",
    "\\begin{cases}-4x-6y=0\\\\2x+3y=0\\end{cases}\\\\\n",
    "x=-\\frac{3}{2}y$  \n",
    "\n",
    "Получили бесконечное множество коллинеарных векторов.\n",
    "\n",
    "Найдем 1 частное решение:  \n",
    "\n",
    "Пусть $y=-2$, тогда $x=3$  \n",
    "\n",
    "Проверим:  \n",
    "\n",
    "$\\begin{cases}-4\\cdot 3-6\\cdot (-2)=0\\\\2\\cdot 3+3\\cdot (-2)=0\\end{cases}$ верно.\n",
    "\n",
    "$\\bar{u_2}=\\begin{pmatrix}3\\\\ -2\\end{pmatrix}$  \n",
    "\n",
    "Проверим с numpy:"
   ]
  },
  {
   "cell_type": "code",
   "execution_count": 2,
   "id": "neural-tackle",
   "metadata": {},
   "outputs": [
    {
     "name": "stdout",
     "output_type": "stream",
     "text": [
      "Собственные значения:\n",
      "[2. 3.]\n",
      "Собственные векторы:\n",
      "[[-0.89442719  0.83205029]\n",
      " [ 0.4472136  -0.5547002 ]]\n"
     ]
    }
   ],
   "source": [
    "A=np.array([[-1,-6],[2,6]])\n",
    "w, v = np.linalg.eig(A)\n",
    "print(f'Собственные значения:\\n{w}')\n",
    "print(f'Собственные векторы:\\n{v}')"
   ]
  },
  {
   "cell_type": "markdown",
   "id": "centered-garage",
   "metadata": {},
   "source": [
    "Нормируем расчитанные вектора $\\bar{u_1}=\\begin{pmatrix}2\\\\ -1\\end{pmatrix}$ и $\\bar{u_2}=\\begin{pmatrix}3\\\\ -2\\end{pmatrix}$"
   ]
  },
  {
   "cell_type": "code",
   "execution_count": 3,
   "id": "engaged-lighting",
   "metadata": {},
   "outputs": [
    {
     "name": "stdout",
     "output_type": "stream",
     "text": [
      "[[ 0.89442719]\n",
      " [-0.4472136 ]],\n",
      "[[ 0.83205029]\n",
      " [-0.5547002 ]]\n"
     ]
    }
   ],
   "source": [
    "u1=np.array([[2],[-1]])\n",
    "u2=np.array([[3],[-2]])\n",
    "u1n=u1/np.linalg.norm(u1, ord=2)\n",
    "u2n=u2/np.linalg.norm(u2, ord=2)\n",
    "print(f'{u1n},\\n{u2n}')"
   ]
  },
  {
   "cell_type": "markdown",
   "id": "experimental-keeping",
   "metadata": {},
   "source": [
    "__2.__ Дан оператор поворота на 180 градусов, задаваемый матрицей \n",
    "\n",
    "$A=\\begin{pmatrix}\n",
    "-1 & 0\\\\ \n",
    "0 & -1\n",
    "\\end{pmatrix}$.\n",
    "\n",
    "Показать, что __любой__ вектор является для него собственным."
   ]
  },
  {
   "cell_type": "markdown",
   "id": "consolidated-accommodation",
   "metadata": {},
   "source": [
    "$\\begin{pmatrix}\n",
    "-1 & 0\\\\ \n",
    "0 & -1\n",
    "\\end{pmatrix}\\cdot \\begin{pmatrix}x\\\\ y\\end{pmatrix}=\\lambda\\cdot \\begin{pmatrix}x\\\\ y\\end{pmatrix}\\\\\n",
    "\\begin{pmatrix}\n",
    "-x\\\\ \n",
    "-y\n",
    "\\end{pmatrix}=\\begin{pmatrix}\\lambda x\\\\ \\lambda y\\end{pmatrix}\\\\\n",
    "\\begin{cases}-x=\\lambda x\\\\-y=\\lambda y\\end{cases}\\\\\n",
    "\\lambda=-1$  \n",
    "\n",
    "Решение не зависит от значений $x$ и $y$, следовательно для оператора поворота **любой** вектор является собственным."
   ]
  },
  {
   "cell_type": "code",
   "execution_count": 4,
   "id": "designed-pride",
   "metadata": {},
   "outputs": [
    {
     "name": "stdout",
     "output_type": "stream",
     "text": [
      "Собственные значения:\n",
      "[-1. -1.]\n",
      "Собственные векторы:\n",
      "[[1. 0.]\n",
      " [0. 1.]]\n"
     ]
    }
   ],
   "source": [
    "B=np.array([[-1,0],[0,-1]])\n",
    "w, v = np.linalg.eig(B)\n",
    "print(f'Собственные значения:\\n{w}')\n",
    "print(f'Собственные векторы:\\n{v}')"
   ]
  },
  {
   "cell_type": "markdown",
   "id": "surgical-woman",
   "metadata": {},
   "source": [
    "__3.__ Пусть линейный оператор задан матрицей\n",
    "\n",
    "$A=\\begin{pmatrix}\n",
    "1 & 1\\\\ \n",
    "-1 & 3\n",
    "\\end{pmatrix}$.\n",
    "\n",
    "Установить, является ли вектор $x=(1,1)$ собственным вектором этого линейного оператора."
   ]
  },
  {
   "cell_type": "markdown",
   "id": "biblical-flashing",
   "metadata": {},
   "source": [
    "Предположим, что $x=(1,1)$ является собственным вектором оператора $A$, тогда:  \n",
    "    \n",
    "$\\begin{pmatrix}\n",
    "1 & 1\\\\ \n",
    "-1 & 3\n",
    "\\end{pmatrix}\\cdot\\begin{pmatrix}1\\\\1\\end{pmatrix}=\\lambda\\cdot\\begin{pmatrix}1\\\\1\\end{pmatrix} \\Rightarrow$  \n",
    "\n",
    "$\\begin{cases}1+1=\\lambda \\\\\n",
    "-1+3=\\lambda \\end{cases}\\\\\\Rightarrow \\lambda=2$  \n",
    "\n",
    "Вектор $x=(1,1)$ **является** собственным вектором оператора $A=\\begin{pmatrix}\n",
    "1 & 1\\\\ \n",
    "-1 & 3\n",
    "\\end{pmatrix}$, с собственным значением $\\lambda = 2$.  "
   ]
  },
  {
   "cell_type": "code",
   "execution_count": 13,
   "id": "826d21e0",
   "metadata": {},
   "outputs": [
    {
     "name": "stdout",
     "output_type": "stream",
     "text": [
      "Собственные значения:\n",
      "[2.00000002 1.99999998]\n",
      "Собственные векторы:\n",
      "[[ 0.70710677 -0.70710679]\n",
      " [ 0.70710679 -0.70710677]]\n"
     ]
    }
   ],
   "source": [
    "A=np.array([[1,1],[-1,3]])\n",
    "w, v = np.linalg.eig(A)\n",
    "print(f'Собственные значения:\\n{w}') #при округлении видно что являются\n",
    "print(f'Собственные векторы:\\n{v}') #с векторами почему то не посчиталось"
   ]
  },
  {
   "cell_type": "markdown",
   "id": "floppy-exercise",
   "metadata": {},
   "source": [
    "__4.__ Пусть линейный оператор задан матрицей\n",
    "\n",
    "$A=\\begin{pmatrix}\n",
    "0 & 3 & 0\\\\ \n",
    "3 & 0 & 0\\\\\n",
    "0 & 0 & 3\n",
    "\\end{pmatrix}$.\n",
    "\n",
    "Установить, является ли вектор $x=(3, -3, -4)$ собственным вектором этого линейного оператора."
   ]
  },
  {
   "cell_type": "markdown",
   "id": "hybrid-reminder",
   "metadata": {},
   "source": [
    "Предположим что вектор $x$ собственный вектор оператора $A$, тогда:  \n",
    "    \n",
    "$\\begin{pmatrix}\n",
    "0 & 3 & 0\\\\ \n",
    "3 & 0 & 0\\\\\n",
    "0 & 0 & 3\n",
    "\\end{pmatrix}\\cdot \\begin{pmatrix}3\\\\-3\\\\-4\\end{pmatrix}=\\lambda \\cdot\\begin{pmatrix}3\\\\-3\\\\-4\\end{pmatrix}\\Rightarrow\\\\\n",
    "\\begin{cases}-9=3\\lambda\\\\9=-3\\lambda\\\\-12=-4\\lambda\\end{cases}\\Rightarrow\\\\\n",
    "\\begin{cases}\\lambda=-3\\\\\\lambda=-3\\\\\\lambda=3\\end{cases}$  \n",
    "Такая система не имеет смысла, следовательно, вектор $x=(3, -3, -4)$ **не является** собственным вектором линейного оператора, заданного матрицей $A$."
   ]
  },
  {
   "cell_type": "code",
   "execution_count": 12,
   "id": "functional-coral",
   "metadata": {},
   "outputs": [
    {
     "name": "stdout",
     "output_type": "stream",
     "text": [
      "Собственные векторы:\n",
      "[[ 0.70710678 -0.70710678  0.        ]\n",
      " [ 0.70710678  0.70710678  0.        ]\n",
      " [ 0.          0.          1.        ]]\n"
     ]
    }
   ],
   "source": [
    "A=np.array([[0,3,0],[3,0,0],[0,0,3]])\n",
    "w,v = np.linalg.eig(A)\n",
    "print(f'Собственные векторы:\\n{v}') # вектор  𝑥=(3,−3,−4)  не является собственным вектором линейного оператора"
   ]
  }
 ],
 "metadata": {
  "kernelspec": {
   "display_name": "Python 3 (ipykernel)",
   "language": "python",
   "name": "python3"
  },
  "language_info": {
   "codemirror_mode": {
    "name": "ipython",
    "version": 3
   },
   "file_extension": ".py",
   "mimetype": "text/x-python",
   "name": "python",
   "nbconvert_exporter": "python",
   "pygments_lexer": "ipython3",
   "version": "3.9.13"
  }
 },
 "nbformat": 4,
 "nbformat_minor": 5
}
