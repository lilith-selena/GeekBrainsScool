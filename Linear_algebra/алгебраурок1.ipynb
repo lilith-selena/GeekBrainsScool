{
 "cells": [
  {
   "cell_type": "markdown",
   "metadata": {
    "id": "zz7SDkPIkVlM"
   },
   "source": [
    "# Урок 1"
   ]
  },
  {
   "cell_type": "markdown",
   "metadata": {
    "id": "aU5YNMH9kVqP"
   },
   "source": [
    "## Практическое задание"
   ]
  },
  {
   "cell_type": "markdown",
   "metadata": {},
   "source": [
    "### Линейное пространство. Основные понятия. Часть 1"
   ]
  },
  {
   "cell_type": "markdown",
   "metadata": {
    "id": "NaYoffkueD8U"
   },
   "source": [
    "__1.__ Исследуйте на линейную зависимость:\n",
    "\n",
    "$$f_{1}(x)=e^{x}, f_{2}(x)=1, f_{3}(x)=x+1, f_{4}(x)=x-e^{x}.$$\n",
    "\n",
    " Согласно определению линейной зависимости 𝜆1𝑢1+𝜆2𝑢2+...+𝜆𝑛𝑢𝑛=0 если 𝜆1,𝜆2,...,𝜆𝑛𝑢𝑛 не равны 0 товектора линейнозависимы\n",
    " \n",
    " $$ 𝜆_1*e^{x} + 𝜆_2*1 + 𝜆_3*(x+1) + 𝜆_4*(x - e^{x}) = 0$$  \n",
    " при   𝜆_1=1, 𝜆_2=1, 𝜆_3=-1, 𝜆_4=1."
   ]
  },
  {
   "cell_type": "markdown",
   "metadata": {
    "id": "cECfCSANkVqR"
   },
   "source": [
    "__2.__ Исследуйте на линейную зависимость:\n",
    "$$f_{1}(x)=2, f_{2}(x)=x, f_{3}(x)=x^{2}, f_{4}(x)=(x+1)^{2}$$\n",
    "\n",
    "аналогично прошлому уравнения составим зависимость и решим ее относительно значений 𝜆:\n",
    "\n",
    "𝜆_1 * 2 + 𝜆_2 * x + 𝜆_3 * x^{2} + 𝜆_4 * (x+1)^{2} =0\n",
    "\n",
    "$$\\begin{cases}\n",
    " 2*𝜆_{1}+𝜆_{4}=0,\\\\\n",
    " 𝜆_{2}+2*𝜆_{4}=0,\\\\\n",
    " 𝜆_{3}+𝜆_{4}=0,\n",
    "\\end{cases}$$\n",
    "\n",
    "следовательно если 𝜆_{4} не равным 0 можно выразить и все остальные 𝜆 не через нулевые значения. Согласно определению линейной зависимости 𝜆1𝑢1+𝜆2𝑢2+...+𝜆𝑛𝑢𝑛=0 если 𝜆1,𝜆2,...,𝜆𝑛𝑢𝑛 не равны 0 товектора линейнозависимы."
   ]
  },
  {
   "cell_type": "markdown",
   "metadata": {
    "id": "DFrjdtbHkVqS"
   },
   "source": [
    "__3.__ Найдите координаты вектора $x = (2, 3, 5)\\in \\mathbb{R}^{3}$ в базисе $b_{1}=(0, 0, 10)$, $b_{2}=(2, 0, 0)$, $b_{3}=(0, 1, 0)$.\n",
    "\n",
    "(50,4,5)"
   ]
  },
  {
   "cell_type": "markdown",
   "metadata": {
    "id": "5la-eVLukVqT"
   },
   "source": [
    "__4.__ Найдите координаты вектора $3x^{2}-2x+2\\in\\mathbb{R}^{3}[x]$:\n",
    "\n",
    "а) в базисе $1$, $x$, $x^{2}$; \n",
    "\n",
    "(2,-2,3)\n",
    "\n",
    "б) в базисе $x^{2}$, $x-1$, $1$.\n",
    "\n",
    "(3,2,6)"
   ]
  },
  {
   "cell_type": "markdown",
   "metadata": {
    "id": "kQlell_GkVqU"
   },
   "source": [
    "__5.__ Установите, считается ли линейным подпространством:\n",
    "\n",
    "а) совокупность всех векторов трёхмерного пространства, у которых по крайней мере одна из первых двух координат равна нулю;\n",
    "\n",
    "(0,a_2,a_3) , (0,b_2,b_3), (c_1,0,c_3) => (c_1, a_2+b_2, a_3+b_3+c_3) - NO\n",
    "\n",
    "б) все векторы, считающиеся линейными комбинациями данных векторов $\\{u_{1}, u_{2} \\ldots, u_{n}\\}$.\n",
    " \n",
    " $a =\\lambda_{1}u_{1}+\\lambda_{2}u_{2}+...+\\lambda_{n}u_{n}$\n",
    " \n",
    " $b = \\mu_{1}u_{1}+\\mu_{2}u_{2}+...+\\mu_{n}u_{n}$\n",
    " \n",
    " $a+b = (\\lambda_{1}+\\mu_{1})u_{1} +(\\lambda_{2}+\\mu_{2})u_{2}+...+(\\lambda_{n}+\\mu_{n})u_{n}$\n",
    " \n",
    "$\\alpha \\cdot a = \\alpha \\cdot \\lambda_{1}u_{1}+\\alpha \\cdot \\lambda_{2}u_{2}+...+\\alpha \\cdot \\lambda_{n}u_{n} $\n",
    "\n",
    "$\\beta \\cdot a =\\beta \\cdot \\mu_{1}u_{1}+ \\beta \\cdot \\mu_{2}u_{2}+...+\\beta \\cdot \\mu_{n} u_{n} $\n",
    "\n",
    "YES\n",
    "  "
   ]
  },
  {
   "cell_type": "markdown",
   "metadata": {},
   "source": [
    "  \n",
    "  $\\alpha \\cdot a = \\alpha \\cdot \\lambda_{1}u_{1}+\\alpha \\cdot \\lambda_{2}u_{2}+...+\\alpha \\cdot \\lambda_{n}u_{n} $"
   ]
  },
  {
   "cell_type": "markdown",
   "metadata": {
    "id": "c9EHjpDAc7Zy"
   },
   "source": [
    "# Линейное пространство. Основные понятия. Часть 2"
   ]
  },
  {
   "cell_type": "markdown",
   "metadata": {
    "id": "rnPVQP84c7cu"
   },
   "source": [
    "## Практическое задание"
   ]
  },
  {
   "cell_type": "markdown",
   "metadata": {
    "id": "81d4BnNXc7cy"
   },
   "source": [
    "__1.__ Найдите скалярное произведение векторов $x, y \\in \\mathbb{R}$:<br>\n",
    "а) $x=(0,-3, 6),~y=(-4, 7, 9);$<br>\n",
    "\n",
    "$(x,y) = 0 \\cdot (-4) + (-3) \\cdot 7 + 6\\cdot 9 =33$\n",
    "\n",
    "б) $x=(7, -4, 0, 1),~y=(-3, 1, 11, 2).$\n",
    "$(x,y) =7 \\cdot (-3) + (-4)\\cdot 1 + 0\\cdot 11 + 1\\cdot 2 = - 23$\n"
   ]
  },
  {
   "cell_type": "code",
   "execution_count": 67,
   "metadata": {},
   "outputs": [
    {
     "name": "stdout",
     "output_type": "stream",
     "text": [
      "Скалярное произведение x и y:\n",
      "33\n",
      "Скалярное произведение x и y:\n",
      "-23\n"
     ]
    }
   ],
   "source": [
    "import numpy as np\n",
    "def skalyr(a,b):\n",
    "    return print(f'Скалярное произведение x и y:\\n{np.dot(a, b)}')\n",
    "\n",
    "x1 = np.array([0,-3,6])\n",
    "y1 = np.array([-4,7,9])\n",
    "x2 = np.array([7,-4,0,1])\n",
    "y2 = np.array([-3,1,11,2])\n",
    "skalyr(x1,y1)\n",
    "skalyr(x2,y2)"
   ]
  },
  {
   "cell_type": "markdown",
   "metadata": {},
   "source": [
    "__2.__ Найдите нормы векторов $(4, 2, 4)$ и $(12, 3, 4)$ и угол между ними."
   ]
  },
  {
   "cell_type": "code",
   "execution_count": 68,
   "metadata": {},
   "outputs": [
    {
     "name": "stdout",
     "output_type": "stream",
     "text": [
      "l1 Манхэттенская норма вектора a:10.0 \n",
      "l2 Евклидова норма вектора а:6.0\n"
     ]
    }
   ],
   "source": [
    "\n",
    "from numpy.linalg import norm\n",
    "def vector_norm (x):\n",
    "    a = np.array(x)\n",
    "    \n",
    "    return  print(f'l1 Манхэттенская норма вектора a:{norm(a, ord=1)} \\nl2 Евклидова норма вектора а:{norm(a, ord=2)}')\n",
    "x = [4, 2, 4]\n",
    "vector_norm(x)"
   ]
  },
  {
   "cell_type": "code",
   "execution_count": 69,
   "metadata": {},
   "outputs": [
    {
     "name": "stdout",
     "output_type": "stream",
     "text": [
      "l1 Манхэттенская норма вектора a:19.0 \n",
      "l2 Евклидова норма вектора а:13.0\n"
     ]
    }
   ],
   "source": [
    "y = [12, 3, 4]\n",
    "vector_norm(y)"
   ]
  },
  {
   "cell_type": "code",
   "execution_count": 70,
   "metadata": {},
   "outputs": [
    {
     "data": {
      "text/plain": [
       "151.66666666666666"
      ]
     },
     "execution_count": 70,
     "metadata": {},
     "output_type": "execute_result"
    }
   ],
   "source": [
    "cos_phi = np.dot(x, y) / norm(x) * norm(y)\n",
    "cos_phi "
   ]
  },
  {
   "cell_type": "markdown",
   "metadata": {},
   "source": [
    "__3.__ Определите, будет ли линейное пространство евклидовым, если за скалярное произведение принять:<br>\n",
    "а) произведение длин векторов;<br>\n",
    "б) утроенное обычное скалярное произведение векторов?<br>\n"
   ]
  },
  {
   "cell_type": "code",
   "execution_count": 71,
   "metadata": {},
   "outputs": [],
   "source": [
    "def vect_len_mul(a, b):\n",
    "    return norm(a) * norm(b)\n",
    "def triple_scalar(a, b):\n",
    "    return 3*a.dot(b)"
   ]
  },
  {
   "cell_type": "code",
   "execution_count": 72,
   "metadata": {},
   "outputs": [
    {
     "name": "stdout",
     "output_type": "stream",
     "text": [
      "CASE A:\n",
      "True\n",
      "False\n",
      "False\n",
      "True True\n",
      "\n",
      " как написать сама не разобралась\n",
      "CASE B\n",
      "True\n",
      "True\n",
      "True\n",
      "True True\n"
     ]
    }
   ],
   "source": [
    "def check_axioms(func):\n",
    "    x = np.array([1, 2, 4])\n",
    "    y = np.array([4, 5, 6])\n",
    "    x1 = np.array([7, 8, 9])\n",
    "    x2 = np.array([2, 5, 11])\n",
    "    Lambda = 3\n",
    "    #1 (x ,y) = (y, x)\n",
    "    print(func(x, y) == func(y, x))\n",
    "    #2 (lambda*x, y) = lambda(x, y)\n",
    "    print(func(Lambda*x, y) == Lambda*func(x, y))\n",
    "    #3 (x1+x2, y) = (x1, y) + (x2)\n",
    "    print(func(x1+x2, y) == (func(x1, y) + func(x2, y)))\n",
    "    #4 (x, x) >= 0, (x, x) = 0 -> x=0\n",
    "    nul = np.array([0, 0, 0])\n",
    "    print(func(x, x) >= 0, func(nul, nul) == 0)\n",
    "#a)\n",
    "print(\"CASE A:\")\n",
    "check_axioms(vect_len_mul)\n",
    "print('\\n как написать сама не разобралась')\n",
    "print('CASE B')\n",
    "check_axioms(triple_scalar)"
   ]
  },
  {
   "cell_type": "markdown",
   "metadata": {},
   "source": [
    "__4.__ Выясните, какие из нижеперечисленных векторов образуют ортонормированный базис в линейном пространстве $\\mathbb{R}^{3}$:<br>\n",
    "а) $(1,0,0),(0,0,1);$ <br>\n",
    "б) $(1/\\sqrt{2},-1/\\sqrt{2},0),(1/\\sqrt{2},1/\\sqrt{2},0), (0,0,1);$<br>\n",
    "в) $(1/2, -1/2, 0), (0, 1/2, 1/2), (0,0,1);$<br>\n",
    "г) $(1,0,0),(0,1,0),(0,0,1)?$ "
   ]
  },
  {
   "cell_type": "markdown",
   "metadata": {},
   "source": [
    "def cos_phi(x,y):\n",
    "    cosphi= np.dot(x, y) / norm(x) / norm(y)\n",
    "    return cosphi \n",
    "\n",
    "two_sqrt = 1/np.sqrt(2)\n",
    "b1 = np.array([two_sqrt, -two_sqrt, 0])\n",
    "b2 = np.array([two_sqrt, two_sqrt, 0])\n",
    "b3 = np.array([0, 0, 1])\n",
    "\n",
    "cos_phi(b1,b2)\n",
    "cos_phi\n"
   ]
  },
  {
   "cell_type": "code",
   "execution_count": 73,
   "metadata": {},
   "outputs": [
    {
     "data": {
      "text/plain": [
       "(0.0, 0.0, 0.0, 0.9999999999999999, 0.9999999999999999, 1.0)"
      ]
     },
     "execution_count": 73,
     "metadata": {},
     "output_type": "execute_result"
    }
   ],
   "source": [
    "# б) базис ортонормирован\n",
    "two_sqrt = 1/np.sqrt(2)\n",
    "b1 = np.array([two_sqrt, -two_sqrt, 0])\n",
    "b2 = np.array([two_sqrt, two_sqrt, 0])\n",
    "b3 = np.array([0, 0, 1])\n",
    "b1.dot(b2), b1.dot(b3), b2.dot(b3), norm(b1), norm(b2), norm(b3)\n"
   ]
  },
  {
   "cell_type": "code",
   "execution_count": 74,
   "metadata": {},
   "outputs": [
    {
     "data": {
      "text/plain": [
       "(-0.25, 0.0, 0.5, 0.7071067811865476, 0.7071067811865476, 1.0)"
      ]
     },
     "execution_count": 74,
     "metadata": {},
     "output_type": "execute_result"
    }
   ],
   "source": [
    "# аналогично вычислим в) не образуют ортонормированный базис cosphi= np.dot(b1 , b2 ) / norm(b2 ) * norm(b1) \n",
    "b1 = np.array([0.5, -0.5, 0])\n",
    "b2 = np.array([0, 0.5, 0.5])\n",
    "b3 = np.array([0, 0, 1])\n",
    "b1.dot(b2), b1.dot(b3), b2.dot(b3), norm(b1), norm(b2), norm(b3)"
   ]
  },
  {
   "cell_type": "code",
   "execution_count": 75,
   "metadata": {},
   "outputs": [
    {
     "name": "stdout",
     "output_type": "stream",
     "text": [
      "-0.25 0.7071067811865475 0.0\n"
     ]
    }
   ],
   "source": [
    "cosphi1= np.dot(b1 , b2 ) / norm(b2 ) * norm(b1) \n",
    "cosphi2= np.dot(b2 , b3 ) / norm(b2 ) * norm(b3) \n",
    "cosphi3= np.dot(b1 , b3 ) / norm(b1 ) * norm(b3) \n",
    "print (cosphi1, cosphi2, cosphi3) # ни один из углов не равен 90 градусам"
   ]
  },
  {
   "cell_type": "code",
   "execution_count": 76,
   "metadata": {},
   "outputs": [
    {
     "name": "stdout",
     "output_type": "stream",
     "text": [
      "0.0 0.0 0.0 0 0 0 1.0 1.0 1.0\n"
     ]
    }
   ],
   "source": [
    "b1 = np.array([1, 0, 0])\n",
    "b2 = np.array([0, 1, 0])\n",
    "b3 = np.array([0, 0, 1])\n",
    "cosphi1= np.dot(b1 , b2 ) / norm(b2 ) * norm(b1) \n",
    "cosphi2= np.dot(b2 , b3 ) / norm(b2 ) * norm(b3) \n",
    "cosphi3= np.dot(b1 , b3 ) / norm(b1 ) * norm(b3) \n",
    "# г) - это ортонормированные вектора \n",
    "print (cosphi1, cosphi2, cosphi3, b1.dot(b2), b1.dot(b3), b2.dot(b3), norm(b1), norm(b2), norm(b3)) "
   ]
  },
  {
   "cell_type": "code",
   "execution_count": 77,
   "metadata": {},
   "outputs": [
    {
     "name": "stdout",
     "output_type": "stream",
     "text": [
      "0.0 0.0 0.0 0 1.0 1.0\n"
     ]
    }
   ],
   "source": [
    "b1 = np.array([1, 0, 0])\n",
    "b3 = np.array([0, 0, 1])\n",
    "cosphi3= np.dot(b1 , b3 ) / norm(b1 ) * norm(b3) \n",
    "# а) - это ортонормированные вектора \n",
    "print (cosphi1, cosphi2, cosphi3, b1.dot(b3), norm(b1), norm(b3)) "
   ]
  }
 ],
 "metadata": {
  "colab": {
   "collapsed_sections": [],
   "name": "Методичка №1.ipynb",
   "provenance": []
  },
  "kernelspec": {
   "display_name": "Python 3 (ipykernel)",
   "language": "python",
   "name": "python3"
  },
  "language_info": {
   "codemirror_mode": {
    "name": "ipython",
    "version": 3
   },
   "file_extension": ".py",
   "mimetype": "text/x-python",
   "name": "python",
   "nbconvert_exporter": "python",
   "pygments_lexer": "ipython3",
   "version": "3.9.12"
  }
 },
 "nbformat": 4,
 "nbformat_minor": 1
}
